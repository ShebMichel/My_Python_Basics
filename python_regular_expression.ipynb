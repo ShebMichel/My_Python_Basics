{
 "cells": [
  {
   "cell_type": "markdown",
   "id": "abad6595-0a86-4fdd-b723-d42a8d214a85",
   "metadata": {},
   "source": [
    "# Python regular expression\n",
    "\n",
    "## Regular Expression\n",
    "In this tutorial, you’ll explore regular expressions, \n",
    "Also known as regexes, in Python. A regex is a special sequence of characters that defines a pattern for complex string-matching functionality."
   ]
  },
  {
   "cell_type": "code",
   "execution_count": 2,
   "id": "2f7b697a-c630-4417-846c-8af398253f3a",
   "metadata": {},
   "outputs": [],
   "source": [
    "import re"
   ]
  },
  {
   "cell_type": "code",
   "execution_count": 4,
   "id": "104fa1da",
   "metadata": {},
   "outputs": [
    {
     "name": "stdin",
     "output_type": "stream",
     "text": [
      "Enter your email:  data@gmail.com\n"
     ]
    },
    {
     "name": "stdout",
     "output_type": "stream",
     "text": [
      "Valid email address\n"
     ]
    }
   ],
   "source": [
    "# regular expression to match the pattern\n",
    "pattern = r\"^[a-zA-Z0-9_-]+@[a-zA-Z0-9_-]+\\.[a-zA-Z0-9_-]+$\"\n",
    "# input string\n",
    "string = input('Enter your email: ')  #\"tugrp@example.com\"\n",
    "# check if the string matches the pattern\n",
    "if re.match(pattern, string):\n",
    "  print(\"Valid email address\")\n",
    "else:\n",
    "  print(\"Invalid email address\")"
   ]
  },
  {
   "cell_type": "markdown",
   "id": "f2e9e7d9-4de8-47b0-b907-58175db601b8",
   "metadata": {},
   "source": [
    "* ### Exercise: Password Validation"
   ]
  },
  {
   "cell_type": "code",
   "execution_count": 7,
   "id": "33853dd7",
   "metadata": {},
   "outputs": [
    {
     "name": "stdin",
     "output_type": "stream",
     "text": [
      "Enter a password:  data@gmail.com\n"
     ]
    },
    {
     "name": "stdout",
     "output_type": "stream",
     "text": [
      "Password must contain at least one uppercase letter.\n"
     ]
    }
   ],
   "source": [
    "# Exerecise 1: Password Validation\n",
    "def maine():\n",
    "  password = input(\"Enter a password: \")\n",
    "  if len(password) < 8:\n",
    "    print(\"Password must be at least 8 characters long.\")\n",
    "  elif not re.search(\"[a-z]\", password):\n",
    "    print(\"Password must contain at least one lowercase letter.\")\n",
    "  elif not re.search(\"[A-Z]\", password):\n",
    "    print(\"Password must contain at least one uppercase letter.\")\n",
    "  elif not re.search(\"[0-9]\", password):\n",
    "    print(\"Password must contain at least one digit.\")\n",
    "  elif not re.search(\"[!@#$%^&*()_+]\", password):\n",
    "    print(\"Password must contain at least one special character.\")\n",
    "  else:\n",
    "    print(\"Password is valid.\")\n",
    "\n",
    "if __name__ == \"__main__\":\n",
    "  maine()\n"
   ]
  },
  {
   "cell_type": "code",
   "execution_count": null,
   "id": "9db7254d-cb5e-4e38-aa4e-3db4a1b53f01",
   "metadata": {},
   "outputs": [],
   "source": []
  },
  {
   "cell_type": "markdown",
   "id": "89b0e753",
   "metadata": {},
   "source": [
    "Thanks for following this simple exercise, dive into the next one if you are willing to learn more. Bon courage"
   ]
  }
 ],
 "metadata": {
  "kernelspec": {
   "display_name": "Python 3 (ipykernel)",
   "language": "python",
   "name": "python3"
  },
  "language_info": {
   "codemirror_mode": {
    "name": "ipython",
    "version": 3
   },
   "file_extension": ".py",
   "mimetype": "text/x-python",
   "name": "python",
   "nbconvert_exporter": "python",
   "pygments_lexer": "ipython3",
   "version": "3.12.2"
  }
 },
 "nbformat": 4,
 "nbformat_minor": 5
}
