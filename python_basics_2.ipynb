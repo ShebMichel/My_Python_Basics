{
 "cells": [
  {
   "cell_type": "markdown",
   "id": "8c195772",
   "metadata": {},
   "source": [
    "# Python basics  \n",
    "\n",
    "* ## Logical operators\n",
    "A logical operator is a symbol or word used to connect two or more expressions such that \n",
    "the value of the compound expression produced depends only on that of the original expressions\n",
    "and on the meaning of the operator. Here we will play with the following symbols >, <, ==, >=, <=, !=, and, or, not"
   ]
  },
  {
   "cell_type": "code",
   "execution_count": 1,
   "id": "104fa1da",
   "metadata": {},
   "outputs": [
    {
     "name": "stdout",
     "output_type": "stream",
     "text": [
      "False\n",
      "True\n",
      "False\n",
      "False\n",
      "True\n",
      "True\n",
      "False\n",
      "True\n",
      "False\n",
      "False\n",
      "False\n",
      "True\n",
      "False\n"
     ]
    }
   ],
   "source": [
    "# Logical Operators\n",
    "# >, <, ==, >=, <=, !=, and, or, not\n",
    "print(4 > 5)\n",
    "print(4 < 5)\n",
    "print(4 == 5)\n",
    "print(\"a\" > \"b\")\n",
    "print(\"a\" > \"A\")\n",
    "print(1 < 2 < 3 < 4)\n",
    "print(1 < 2 > 3 < 4)\n",
    "print(1 >= 0)\n",
    "print(1 <= 0)\n",
    "print(0 != 0)\n",
    "print(not (True))\n",
    "print(not (False))\n",
    "print(not (1 == 1))\n",
    "# ---"
   ]
  },
  {
   "cell_type": "markdown",
   "id": "eccc7be2",
   "metadata": {},
   "source": [
    "* ### Exercise: Logical Operators"
   ]
  },
  {
   "cell_type": "code",
   "execution_count": 2,
   "id": "33853dd7",
   "metadata": {},
   "outputs": [
    {
     "name": "stdout",
     "output_type": "stream",
     "text": [
      "you are a master magician\n",
      "you need magic powers\n",
      "at least you are getting there\n",
      "you need magic powers\n"
     ]
    }
   ],
   "source": [
    "# This execise help to find the level of a magician and its power.\n",
    "def check_if_you_have_power(is_magician, is_expert):\n",
    "    '''\n",
    "    is_magician:  magician status\n",
    "    is_expert  :  expert status\n",
    "    '''\n",
    "    if is_magician and is_expert:\n",
    "        print(\"you are a master magician\")\n",
    "\n",
    "    elif is_magician and not is_expert:\n",
    "        print(\"at least you are getting there\")\n",
    "\n",
    "    elif not is_magician:\n",
    "        print(\"you need magic powers\")\n",
    "    return\n",
    "\n",
    "if __name__=='__main__':\n",
    "    for mag, exp in zip([True, False,True,False],[True,False,False,True]):\n",
    "       _= check_if_you_have_power(mag, exp)"
   ]
  },
  {
   "cell_type": "markdown",
   "id": "292a0add",
   "metadata": {},
   "source": [
    "* ## Ternary Operator\n",
    "The ternary operator in Python is a one-line shorthand for an if-else statement. It allows you to quickly test a condition and return a value based on whether that condition is true or false"
   ]
  },
  {
   "cell_type": "code",
   "execution_count": 3,
   "id": "2809b53e",
   "metadata": {},
   "outputs": [
    {
     "name": "stdout",
     "output_type": "stream",
     "text": [
      "message allowed\n"
     ]
    }
   ],
   "source": [
    "# Ternary Operator\n",
    "# condition_if_true if condition else condition_if_false\n",
    "is_friend = True\n",
    "can_message = \"message allowed\" if is_friend else \"not allowed to message\"\n",
    "print(can_message)\n",
    "# ---"
   ]
  },
  {
   "cell_type": "markdown",
   "id": "b038e42d",
   "metadata": {},
   "source": [
    "* ## Breaking The Flow: Conditional Logic\n",
    "Conditional statements are an essential part of programming in Python. They allow you to make decisions based on the values of variables or the result of comparisons."
   ]
  },
  {
   "cell_type": "code",
   "execution_count": 4,
   "id": "25977c3a",
   "metadata": {},
   "outputs": [
    {
     "name": "stdout",
     "output_type": "stream",
     "text": [
      "your are not allowed to drive!\n",
      "okoko\n",
      "True\n",
      "True\n",
      "False\n",
      "False\n",
      "you are old enough to drive, and you have the licence\n",
      "okoko\n"
     ]
    }
   ],
   "source": [
    "# Conditional Logic\n",
    "is_old = True\n",
    "is_licensed = False\n",
    "if is_old and is_licensed:\n",
    "    print(\"you are old enough to drive, and you have the licence\")\n",
    "else:\n",
    "    print(\"your are not allowed to drive!\")\n",
    "print(\"okoko\")\n",
    "# ---\n",
    "# Truthy and Falsy\n",
    "is_old = bool(\"hello\")\n",
    "is_licensed = bool(5)\n",
    "print(bool(\"hello\"))\n",
    "print(bool(5))\n",
    "print(bool(\"\"))\n",
    "print(bool(0))\n",
    "if is_old and is_licensed:\n",
    "    print(\"you are old enough to drive, and you have the licence\")\n",
    "\n",
    "else:\n",
    "    print(\"your are not allowed to drive!\")\n",
    "\n",
    "print(\"okoko\")\n",
    "# ---"
   ]
  },
  {
   "cell_type": "markdown",
   "id": "4d566c9e",
   "metadata": {},
   "source": [
    "* # literal versus =="
   ]
  },
  {
   "cell_type": "code",
   "execution_count": 5,
   "id": "dac03573",
   "metadata": {},
   "outputs": [
    {
     "name": "stdout",
     "output_type": "stream",
     "text": [
      "True\n",
      "False\n",
      "False\n",
      "True\n",
      "True\n",
      "True\n",
      "False\n",
      "True\n",
      "False\n",
      "False\n",
      "True\n",
      "False\n",
      "False\n",
      "False\n"
     ]
    }
   ],
   "source": [
    "# literal vs ==\n",
    "print(True == 1)\n",
    "print(\"\" == 1)\n",
    "print([] == 1)\n",
    "print(10 == 10.0)\n",
    "print([] == [])\n",
    "print([1, 2, 3] == [1, 2, 3])\n",
    "print(\"1\" == 1)\n",
    "print(True == 1)\n",
    "print(\"\" == 1)\n",
    "print([] == 1)\n",
    "print(10 == 10.0)\n",
    "print([] is [])\n",
    "print([1, 2, 3] is [1, 2, 3])\n",
    "print(\"1\" == 1)\n",
    "# ---"
   ]
  },
  {
   "cell_type": "markdown",
   "id": "13ee2e04",
   "metadata": {},
   "source": [
    "* ## Iterables\n",
    "Iterable is an object which can be looped over or iterated over with the help of a for loop. Objects like lists, tuples, sets, dictionaries, strings, etc. are called iterables. In short and simpler terms, iterable is anything that you can loop over."
   ]
  },
  {
   "cell_type": "code",
   "execution_count": 6,
   "id": "e4a86ef0",
   "metadata": {},
   "outputs": [
    {
     "name": "stdout",
     "output_type": "stream",
     "text": [
      "name\n",
      "age\n",
      "can_swim\n",
      "('name', 'Golem')\n",
      "('age', 5006)\n",
      "('can_swim', False)\n",
      "Golem\n",
      "5006\n",
      "False\n",
      "name\n",
      "age\n",
      "can_swim\n",
      "name Golem\n",
      "age 5006\n",
      "can_swim False\n"
     ]
    }
   ],
   "source": [
    "# Iterables\n",
    "user = {\"name\": \"Golem\", \"age\": 5006, \"can_swim\": False}\n",
    "for item in user:\n",
    "    print(item)\n",
    "\n",
    "for item in user.items():\n",
    "    print(item)\n",
    "\n",
    "for item in user.values():\n",
    "    print(item)\n",
    "\n",
    "for item in user.keys():\n",
    "    print(item)\n",
    "\n",
    "for key, value in user.items():\n",
    "    print(key, value)\n",
    "\n",
    "# ---"
   ]
  },
  {
   "cell_type": "markdown",
   "id": "5daa7f03",
   "metadata": {},
   "source": [
    "* ## For Loops\n",
    "A for loop in Python is a control flow statement that is used to repeatedly execute a group of statements as long as the condition is satisfied. Such a type of statement is also known as an iterative statement. Therefore, a for loop is an iterative statement."
   ]
  },
  {
   "cell_type": "code",
   "execution_count": 7,
   "id": "377ea0c4",
   "metadata": {},
   "outputs": [
    {
     "name": "stdout",
     "output_type": "stream",
     "text": [
      "Zero to Mastery Z\n",
      "Zero to Mastery e\n",
      "Zero to Mastery r\n",
      "Zero to Mastery o\n",
      "Zero to Mastery  \n",
      "Zero to Mastery t\n",
      "Zero to Mastery o\n",
      "Zero to Mastery  \n",
      "Zero to Mastery M\n",
      "Zero to Mastery a\n",
      "Zero to Mastery s\n",
      "Zero to Mastery t\n",
      "Zero to Mastery e\n",
      "Zero to Mastery r\n",
      "Zero to Mastery y\n",
      "********************\n",
      "[1, 2, 3, 4, 5] 1\n",
      "[1, 2, 3, 4, 5] 2\n",
      "[1, 2, 3, 4, 5] 3\n",
      "[1, 2, 3, 4, 5] 4\n",
      "[1, 2, 3, 4, 5] 5\n",
      "********************\n",
      "{1, 2, 3, 4, 5} 1\n",
      "{1, 2, 3, 4, 5} 2\n",
      "{1, 2, 3, 4, 5} 3\n",
      "{1, 2, 3, 4, 5} 4\n",
      "{1, 2, 3, 4, 5} 5\n",
      "********************\n",
      "(1, 2, 3, 4, 5) 1\n",
      "(1, 2, 3, 4, 5) 2\n",
      "(1, 2, 3, 4, 5) 3\n",
      "(1, 2, 3, 4, 5) 4\n",
      "(1, 2, 3, 4, 5) 5\n",
      "********************\n",
      "1 a\n",
      "1 b\n",
      "1 c\n",
      "2 a\n",
      "2 b\n",
      "2 c\n",
      "3 a\n",
      "3 b\n",
      "3 c\n",
      "4 a\n",
      "4 b\n",
      "4 c\n",
      "5 a\n",
      "5 b\n",
      "5 c\n"
     ]
    }
   ],
   "source": [
    "# For Loops\n",
    "for item1 in [\"Zero to Mastery\",[1, 2, 3, 4, 5],{1, 2, 3, 4, 5},(1, 2, 3, 4, 5)]:\n",
    "    for item2 in item1:\n",
    "        print(item1,item2)\n",
    "    print(\"*\"*20)\n",
    "\n",
    "for item in (1, 2, 3, 4, 5):\n",
    "    for x in [\"a\", \"b\", \"c\"]:\n",
    "        print(item, x)\n",
    "# ---"
   ]
  },
  {
   "cell_type": "markdown",
   "id": "136f22a4",
   "metadata": {},
   "source": [
    "* ### Exercise: Tricky Counter"
   ]
  },
  {
   "cell_type": "code",
   "execution_count": 8,
   "id": "00fd7de1",
   "metadata": {},
   "outputs": [
    {
     "name": "stdout",
     "output_type": "stream",
     "text": [
      "55\n"
     ]
    }
   ],
   "source": [
    "# Exercise\n",
    "my_list = [1, 2, 3, 4, 5, 6, 7, 8, 9, 10]\n",
    "counter = 0\n",
    "for item in my_list:\n",
    "    counter = counter + item\n",
    "print(counter)\n",
    "# ---"
   ]
  },
  {
   "cell_type": "markdown",
   "id": "234c3777",
   "metadata": {},
   "source": [
    "* ## Range\n",
    "The range() function returns a sequence of numbers, starting from 0 by default, and increments by 1 (by default), and stops before a specified number"
   ]
  },
  {
   "cell_type": "code",
   "execution_count": 9,
   "id": "ca274143",
   "metadata": {},
   "outputs": [
    {
     "name": "stdout",
     "output_type": "stream",
     "text": [
      "range(0, 100)\n",
      "0\n",
      "1\n",
      "2\n",
      "3\n",
      "4\n",
      "5\n",
      "6\n",
      "7\n",
      "8\n",
      "9\n",
      "0\n",
      "2\n",
      "4\n",
      "6\n",
      "8\n",
      "10\n",
      "9\n",
      "8\n",
      "7\n",
      "6\n",
      "5\n",
      "4\n",
      "3\n",
      "2\n",
      "1\n",
      "[0, 1, 2, 3, 4, 5, 6, 7, 8, 9]\n",
      "[0, 1, 2, 3, 4, 5, 6, 7, 8, 9]\n"
     ]
    }
   ],
   "source": [
    "# Range\n",
    "print(range(100))\n",
    "for number in range(0, 10):\n",
    "    print(number)\n",
    "\n",
    "for number in range(0, 10, 2):\n",
    "    print(number)\n",
    "\n",
    "for number in range(10, 0, -1):\n",
    "    print(number)\n",
    "\n",
    "for number in range(2):\n",
    "    print(list(range(10)))\n",
    "# ---"
   ]
  },
  {
   "cell_type": "markdown",
   "id": "8735fe1f",
   "metadata": {},
   "source": [
    "* ## Enumerate\n",
    "The enumerate function is a built-in function that allows you to iterate through a sequence and keep track of the index of each element. This function can be useful if you need to access the index of each element in the sequence."
   ]
  },
  {
   "cell_type": "code",
   "execution_count": 10,
   "id": "9bdee6ed",
   "metadata": {},
   "outputs": [
    {
     "name": "stdout",
     "output_type": "stream",
     "text": [
      "0 H\n",
      "1 e\n",
      "2 l\n",
      "3 l\n",
      "4 l\n",
      "5 o\n",
      "6 o\n",
      "7 o\n",
      "**********\n",
      "0 1\n",
      "1 2\n",
      "2 3\n",
      "**********\n",
      "0 1\n",
      "1 2\n",
      "2 3\n",
      "**********\n",
      "index of 50 is: 50\n"
     ]
    }
   ],
   "source": [
    "# Enumerate\n",
    "for i, char in enumerate(\"Helllooo\"):\n",
    "    print(i, char)\n",
    "print(\"*\"*10)\n",
    "for i, char in enumerate([1, 2, 3]):\n",
    "    print(i, char)\n",
    "print(\"*\"*10)\n",
    "for i, char in enumerate((1, 2, 3)):\n",
    "    print(i, char)\n",
    "print(\"*\"*10)\n",
    "for i, char in enumerate(list(range(100))):\n",
    "    if char == 50:\n",
    "        print(f\"index of 50 is: {i}\")\n",
    "# ---"
   ]
  },
  {
   "cell_type": "markdown",
   "id": "12df1f1a",
   "metadata": {},
   "source": [
    "* ## While Loops\n",
    "A while loop statement in Python programming language repeatedly executes a target statement as long as a given boolean expression is true."
   ]
  },
  {
   "cell_type": "code",
   "execution_count": 11,
   "id": "29f064bc",
   "metadata": {},
   "outputs": [
    {
     "name": "stdout",
     "output_type": "stream",
     "text": [
      "0\n",
      "5\n",
      "10\n",
      "15\n",
      "20\n",
      "25\n",
      "30\n",
      "35\n",
      "40\n",
      "45\n",
      "done with all the work\n",
      "1\n",
      "2\n",
      "3\n",
      "1\n",
      "2\n",
      "3\n",
      "say something: whats your name\n",
      "say something: bye\n"
     ]
    }
   ],
   "source": [
    "# While Loops\n",
    "i = 0\n",
    "while i < 50:\n",
    "    print(i)\n",
    "    i += 5\n",
    "\n",
    "else:\n",
    "    print(\"done with all the work\")\n",
    "\n",
    "# ---\n",
    "# While Loops 2\n",
    "my_list = [1, 2, 3]\n",
    "for item in my_list:\n",
    "    print(item)\n",
    "\n",
    "i = 0\n",
    "while i < len(my_list):\n",
    "    print(my_list[i])\n",
    "    i += 1\n",
    "\n",
    "while True:\n",
    "    response = input(\"say something: \")\n",
    "    if response == \"bye\":\n",
    "        break\n",
    "# ---"
   ]
  },
  {
   "cell_type": "markdown",
   "id": "ee709ac1",
   "metadata": {},
   "source": [
    "* ## Break, Continue, Pass\n",
    "Pass vs.Break:A break statement in Python alters the flow of a loop by terminating it once a specified condition is met. Continue: The continue statement in Python is used to skip the remaining code inside a loop for the current iteration only"
   ]
  },
  {
   "cell_type": "code",
   "execution_count": 12,
   "id": "7098f8f1",
   "metadata": {},
   "outputs": [
    {
     "name": "stdout",
     "output_type": "stream",
     "text": [
      "1\n",
      "**********\n",
      "1\n",
      "**********\n",
      "1\n",
      "2\n",
      "3\n",
      "**********\n",
      "1\n",
      "2\n",
      "3\n",
      "**********\n",
      "1\n",
      "2\n",
      "3\n",
      "**********\n",
      "1\n",
      "2\n",
      "3\n"
     ]
    }
   ],
   "source": [
    "# Break, Continue and Pass\n",
    "my_list = [1, 2, 3]\n",
    "for item in my_list:\n",
    "    print(item)\n",
    "    break\n",
    "print(\"*\"*10)\n",
    "i = 0\n",
    "while i < len(my_list):\n",
    "    print(my_list[i])\n",
    "    i += 1\n",
    "    break\n",
    "print(\"*\"*10)\n",
    "my_list = [1, 2, 3]\n",
    "for item in my_list:\n",
    "    print(item)\n",
    "    continue\n",
    "print(\"*\"*10)\n",
    "i = 0\n",
    "while i < len(my_list):\n",
    "    print(my_list[i])\n",
    "    i += 1\n",
    "    continue\n",
    "print(\"*\"*10)\n",
    "my_list = [1, 2, 3]\n",
    "for item in my_list:\n",
    "    print(item)\n",
    "    pass\n",
    "print(\"*\"*10)\n",
    "i = 0\n",
    "while i < len(my_list):\n",
    "    print(my_list[i])\n",
    "    i += 1\n",
    "    pass\n",
    "# ---"
   ]
  },
  {
   "cell_type": "markdown",
   "id": "fe509b20",
   "metadata": {},
   "source": [
    "* ## Our First GUI"
   ]
  },
  {
   "cell_type": "code",
   "execution_count": 13,
   "id": "13ead294",
   "metadata": {},
   "outputs": [
    {
     "name": "stdout",
     "output_type": "stream",
     "text": [
      "   *   \n",
      "  ***  \n",
      " ***** \n",
      "*******\n",
      "   *   \n",
      "   *   \n"
     ]
    }
   ],
   "source": [
    "# Our First GUI\n",
    "picture = [\n",
    "    [0, 0, 0, 1, 0, 0, 0],\n",
    "    [0, 0, 1, 1, 1, 0, 0],\n",
    "    [0, 1, 1, 1, 1, 1, 0],\n",
    "    [1, 1, 1, 1, 1, 1, 1],\n",
    "    [0, 0, 0, 1, 0, 0, 0],\n",
    "    [0, 0, 0, 1, 0, 0, 0],\n",
    "]\n",
    "fill = \"*\"\n",
    "empty = \" \"\n",
    "for row in picture:\n",
    "    for pixel in row:\n",
    "        if pixel == 1:\n",
    "            print(fill, end=\"\")\n",
    "        else:\n",
    "            print(empty, end=\"\")\n",
    "    print(\"\")  # need a new line after every row\n",
    "# ---"
   ]
  },
  {
   "cell_type": "markdown",
   "id": "6f22b1ce",
   "metadata": {},
   "source": [
    "* ##  Developer Fundamentals: IV"
   ]
  },
  {
   "cell_type": "code",
   "execution_count": 14,
   "id": "4c9fc86d",
   "metadata": {},
   "outputs": [
    {
     "name": "stdout",
     "output_type": "stream",
     "text": [
      "['b', 'n']\n"
     ]
    }
   ],
   "source": [
    "# Developer Fundamentals: IV\n",
    "# Clean\n",
    "# Readability\n",
    "# Predictability\n",
    "# DRY (do not repeat yourself)\n",
    "# ---\n",
    "# Exercise: Find Duplicates\n",
    "some_list = [\"a\", \"b\", \"c\", \"b\", \"d\", \"m\", \"n\", \"n\"]\n",
    "duplicates = []\n",
    "for value in some_list:\n",
    "    if some_list.count(value) > 1 and value not in duplicates:\n",
    "        # if value not in duplicates:\n",
    "        duplicates.append(value)\n",
    "\n",
    "print(duplicates)\n",
    "# ---"
   ]
  },
  {
   "cell_type": "markdown",
   "id": "37b6a3bf",
   "metadata": {},
   "source": [
    "* ## Functions\n",
    "A function is a block of code which only runs when it is called. You can pass data, known as parameters, into a function. A function can return data as a result."
   ]
  },
  {
   "cell_type": "code",
   "execution_count": 15,
   "id": "2ea69c5c",
   "metadata": {},
   "outputs": [
    {
     "name": "stdout",
     "output_type": "stream",
     "text": [
      "!!!!\n",
      "\n",
      "    Info: this function tests and prints param a\n",
      "    \n",
      "False\n"
     ]
    }
   ],
   "source": [
    "# Docstrings\n",
    "def test(a):\n",
    "    \"\"\"\n",
    "    Info: this function tests and prints param a\n",
    "    \"\"\"\n",
    "    print(a)\n",
    "\n",
    "\n",
    "test(\"!!!!\")\n",
    "# help(test)\n",
    "print(test.__doc__)\n",
    "# ---\n",
    "# Clean Code\n",
    "def is_even(num):\n",
    "    return num % 2 == 0\n",
    "\n",
    "\n",
    "print(is_even(51))"
   ]
  },
  {
   "cell_type": "code",
   "execution_count": 16,
   "id": "f3a62f61",
   "metadata": {},
   "outputs": [
    {
     "name": "stdout",
     "output_type": "stream",
     "text": [
      "hellloooo\n",
      "-------\n",
      "   *   \n",
      "  ***  \n",
      " ***** \n",
      "*******\n",
      "   *   \n",
      "   *   \n",
      "-------\n",
      "   o   \n",
      "  ooo  \n",
      " ooooo \n",
      "ooooooo\n",
      "   o   \n",
      "   o   \n"
     ]
    }
   ],
   "source": [
    "# Functions\n",
    "def say_hello():\n",
    "    print(\"hellloooo\")\n",
    "\n",
    "def show_tree(picture, fill, empty):\n",
    "    for row in picture:\n",
    "        for pixel in row:\n",
    "            if pixel == 1:\n",
    "                print(fill, end=\"\")\n",
    "            else:\n",
    "                print(empty, end=\"\")\n",
    "        print(\"\")\n",
    "        \n",
    "say_hello()\n",
    "picture = [\n",
    "    [0, 0, 0, 1, 0, 0, 0],\n",
    "    [0, 0, 1, 1, 1, 0, 0],\n",
    "    [0, 1, 1, 1, 1, 1, 0],\n",
    "    [1, 1, 1, 1, 1, 1, 1],\n",
    "    [0, 0, 0, 1, 0, 0, 0],\n",
    "    [0, 0, 0, 1, 0, 0, 0],\n",
    "]\n",
    "fill = [\"*\",\"o\"]\n",
    "empty = \" \"\n",
    "for i in range(2):\n",
    "    print(\"-------\")\n",
    "    show_tree(picture, fill[i], empty)  \n",
    "# ---"
   ]
  },
  {
   "cell_type": "markdown",
   "id": "4d3951ff",
   "metadata": {},
   "source": [
    "* ## Exercise: Functions"
   ]
  },
  {
   "cell_type": "code",
   "execution_count": 17,
   "id": "6241c238",
   "metadata": {},
   "outputs": [
    {
     "name": "stdout",
     "output_type": "stream",
     "text": [
      " In [0, 2, 32, 54, -124, 110] the max is: 110 and min: -124 \n",
      " In [12, 42, 36, 0, -10, -34] the max is: 42 and min: -34 \n",
      " In [0, 2, 6, 90] the max is: 90 and min: 0 \n",
      " In [42, 8, -10] the max is: 42 and min: -10 \n",
      " In [10, 2, 4, 8] the max is: 10 and min: 2 \n"
     ]
    }
   ],
   "source": [
    "# Rule: params, *args, default parameters, **kwargs\n",
    "# ---\n",
    "# Exercise: Functions\n",
    "def highest_even(li):\n",
    "    '''\n",
    "    This function return the highest even number in a list:\n",
    "    li: your list\n",
    "    '''\n",
    "    evens = []\n",
    "    for item in li:\n",
    "        if item % 2 == 0:\n",
    "            evens.append(item)\n",
    "    #print(evens)\n",
    "    return f\" In {evens} the max is: {max(evens)} and min: {min(evens)} \"\n",
    "\n",
    "my_list_of_lists=[[0,1,2,32,43,54,-34-90,110],[12,42,36,0,-10,-34,105],[0,13,2,6,9,90,-7],[24.30,42,1-2,8,-10],[10, 2, 3, 4, 8, 11]]\n",
    "for list_arg in my_list_of_lists:\n",
    "    print(highest_even(list_arg))"
   ]
  },
  {
   "cell_type": "markdown",
   "id": "90222ca8",
   "metadata": {},
   "source": [
    "* ## Parameters and Arguments\n",
    "The terms parameter and argument can be used for the same thing: information that are passed into a function. From a function's perspective: A parameter is the variable listed inside the parentheses in the function definition. An argument is the value that is sent to the function when it is called."
   ]
  },
  {
   "cell_type": "code",
   "execution_count": 18,
   "id": "0a6c2c05",
   "metadata": {},
   "outputs": [
    {
     "name": "stdout",
     "output_type": "stream",
     "text": [
      "hellloooo Sheb :-)\n",
      "hellloooo Sheb :-)\n",
      "hellloooo :-) David-Michel\n",
      "hellloooo David-Michel :-)\n"
     ]
    }
   ],
   "source": [
    "# Parameters and Arguments\n",
    "def say_hello(name, emoji):\n",
    "    print(f\"hellloooo {name} {emoji}\")\n",
    "\n",
    "\n",
    "say_hello(\"Sheb\", \":-)\")\n",
    "# ---\n",
    "# Default Parameters and Keyword Arguments\n",
    "# positional arguments\n",
    "say_hello(\"Sheb\", \":-)\")\n",
    "say_hello(\":-)\", \"David-Michel\")\n",
    "# keyword arguments\n",
    "say_hello(emoji=\":-)\", name=\"David-Michel\")\n",
    "# ---"
   ]
  },
  {
   "cell_type": "markdown",
   "id": "d89791fc",
   "metadata": {},
   "source": [
    "* ## Walrus Operator\n",
    "the walrus operator, (:=), formally known as the assignment expression operator, offers a way to assign to variables within an expression, including variables that do not exist yet."
   ]
  },
  {
   "cell_type": "code",
   "execution_count": 19,
   "id": "1c26c54b",
   "metadata": {},
   "outputs": [
    {
     "name": "stdout",
     "output_type": "stream",
     "text": [
      "too long 14 elements\n",
      "14\n",
      "13\n",
      "12\n",
      "11\n",
      "10\n",
      "9\n",
      "8\n",
      "7\n",
      "6\n",
      "5\n",
      "4\n",
      "3\n",
      "2\n",
      "h\n"
     ]
    }
   ],
   "source": [
    "# ---\n",
    "# Walrus Operator\n",
    "a = \"helloooooooooo\"\n",
    "if (n := len(a)) > 10:\n",
    "    print(f\"too long {n} elements\")\n",
    "\n",
    "while (n := len(a)) > 1:\n",
    "    print(n)\n",
    "    a = a[:-1]\n",
    "\n",
    "print(a)\n",
    "# ---"
   ]
  },
  {
   "cell_type": "code",
   "execution_count": 20,
   "id": "8859d05c",
   "metadata": {},
   "outputs": [
    {
     "name": "stdout",
     "output_type": "stream",
     "text": [
      "10\n",
      "1\n"
     ]
    }
   ],
   "source": [
    "# Scope - what variables do I have access to?\n",
    "# 1 - start with local\n",
    "# 2 - parent local?\n",
    "# 3 - global\n",
    "# 4 - built in python functions\n",
    "a = 1\n",
    "\n",
    "\n",
    "def parent():\n",
    "    a = 10\n",
    "\n",
    "    def confusion():\n",
    "        return a\n",
    "\n",
    "    return confusion()\n",
    "\n",
    "\n",
    "print(parent())\n",
    "print(a)\n",
    "#----"
   ]
  },
  {
   "cell_type": "markdown",
   "id": "0cafdd6f",
   "metadata": {},
   "source": [
    "* ## Global Keyword\n",
    "A global keyword is a keyword that allows a user to modify a variable outside the current scope. It is used to create global variables in Python from a non-global scope, i.e. inside a function. Global keyword is used inside a function only when we want to do assignments or when we want to change a variable."
   ]
  },
  {
   "cell_type": "code",
   "execution_count": 21,
   "id": "dd32814a",
   "metadata": {},
   "outputs": [
    {
     "name": "stdout",
     "output_type": "stream",
     "text": [
      "2\n"
     ]
    }
   ],
   "source": [
    "# global keyword\n",
    "total = 0\n",
    "def count():\n",
    "    global total\n",
    "    total += 1\n",
    "    return total\n",
    "\n",
    "\n",
    "count()\n",
    "print(count())\n",
    "# ---"
   ]
  },
  {
   "cell_type": "markdown",
   "id": "c1b168e6",
   "metadata": {},
   "source": [
    "* ## Non local Keyword\n",
    "The nonlocal is a keyword in python that is used to declare any variable\n",
    " as not local but instead comes from the nearest enclosing scope that is not global."
   ]
  },
  {
   "cell_type": "code",
   "execution_count": 22,
   "id": "87cca9b3",
   "metadata": {},
   "outputs": [
    {
     "name": "stdout",
     "output_type": "stream",
     "text": [
      "inner: nonlocal\n",
      "outer: nonlocal\n"
     ]
    }
   ],
   "source": [
    "# Nonlocal Keyword\n",
    "def outer():\n",
    "    x = \"local\"\n",
    "\n",
    "    def inner():\n",
    "        nonlocal x\n",
    "        x = \"nonlocal\"\n",
    "        print(\"inner:\", x)\n",
    "\n",
    "    inner()\n",
    "    print(\"outer:\", x)\n",
    "\n",
    "\n",
    "outer()\n",
    "\n",
    "# ---"
   ]
  },
  {
   "cell_type": "markdown",
   "id": "89b0e753",
   "metadata": {},
   "source": [
    "Thanks for following this simple exercise, dive into the next one if you are willing to learn more. Bon courage"
   ]
  }
 ],
 "metadata": {
  "kernelspec": {
   "display_name": "Python 3 (ipykernel)",
   "language": "python",
   "name": "python3"
  },
  "language_info": {
   "codemirror_mode": {
    "name": "ipython",
    "version": 3
   },
   "file_extension": ".py",
   "mimetype": "text/x-python",
   "name": "python",
   "nbconvert_exporter": "python",
   "pygments_lexer": "ipython3",
   "version": "3.9.12"
  }
 },
 "nbformat": 4,
 "nbformat_minor": 5
}
