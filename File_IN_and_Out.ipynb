{
 "cells": [
  {
   "cell_type": "markdown",
   "id": "f785b1fa-895e-48a5-9dd9-6af84184e791",
   "metadata": {},
   "source": [
    "## File Handling\n",
    "- open a file\n",
    "- read from a file\n",
    "- write to a file\n",
    "- append to a file\n",
    "- close a file\n",
    "- write to a file"
   ]
  },
  {
   "cell_type": "code",
   "execution_count": 23,
   "id": "0c646d14-ae5b-471e-a3e9-a74b795bc8ce",
   "metadata": {},
   "outputs": [],
   "source": [
    "#!pip install translate"
   ]
  },
  {
   "cell_type": "markdown",
   "id": "3d206c25-4bf9-4d45-9455-58e6a861f095",
   "metadata": {},
   "source": [
    "# Write to a file"
   ]
  },
  {
   "cell_type": "code",
   "execution_count": 2,
   "id": "0458999c-7ded-4df1-b3d3-ddf7d2905638",
   "metadata": {},
   "outputs": [],
   "source": [
    "with open(\"my_file.txt\", \"w\") as my_file:\n",
    "  my_file.write(\"Hello World\\n\")\n",
    "  my_file.write(\"My name is Sheb Michel\\n\")\n",
    "  my_file.write(\"and this our 2024 ZTM.\\n\")"
   ]
  },
  {
   "cell_type": "markdown",
   "id": "8df247df-df54-436b-87be-d8dc82d8e763",
   "metadata": {},
   "source": [
    "# Read from a file"
   ]
  },
  {
   "cell_type": "code",
   "execution_count": 3,
   "id": "3dcdc6b8-5120-4522-ba0e-963a481d35bc",
   "metadata": {},
   "outputs": [
    {
     "name": "stdout",
     "output_type": "stream",
     "text": [
      "Hello World\n",
      "My name is Sheb Michel\n",
      "and this our 2024 ZTM.\n",
      "\n"
     ]
    }
   ],
   "source": [
    "# read from a file\n",
    "with open(\"my_file.txt\", \"r\") as my_file:\n",
    "  print(my_file.read())"
   ]
  },
  {
   "cell_type": "code",
   "execution_count": 4,
   "id": "92f84888-2927-4902-97d1-a183d30755f5",
   "metadata": {},
   "outputs": [
    {
     "name": "stdout",
     "output_type": "stream",
     "text": [
      "Hello World\n",
      "\n",
      "My name is Sheb Michel\n",
      "\n",
      "and this our 2024 ZTM.\n",
      "\n"
     ]
    }
   ],
   "source": [
    "# read from a file line by line\n",
    "with open(\"my_file.txt\", \"r\") as my_file:\n",
    "  for line in my_file:\n",
    "    print(line)"
   ]
  },
  {
   "cell_type": "code",
   "execution_count": 5,
   "id": "d6c31ef1-6795-44fc-a9da-700fd0ef5cdd",
   "metadata": {},
   "outputs": [
    {
     "name": "stdout",
     "output_type": "stream",
     "text": [
      "Line 0: Hello World\n",
      "\n",
      "Line 1: My name is Sheb Michel\n",
      "\n",
      "Line 2: and this our 2024 ZTM.\n",
      "\n"
     ]
    }
   ],
   "source": [
    "# read from a file line by line with index\n",
    "with open(\"my_file.txt\", \"r\") as my_file:\n",
    "  for i, line in enumerate(my_file):\n",
    "    print(f\"Line {i}: {line}\")"
   ]
  },
  {
   "cell_type": "code",
   "execution_count": 6,
   "id": "093fa8a2-6033-488c-982b-dac13934b162",
   "metadata": {},
   "outputs": [
    {
     "name": "stdout",
     "output_type": "stream",
     "text": [
      "Line 0: Hello World\n",
      "Line 1: My name is Sheb Michel\n",
      "Line 2: and this our 2024 ZTM.\n"
     ]
    }
   ],
   "source": [
    "# read from a file line by line with index and strip\n",
    "with open(\"my_file.txt\", \"r\") as my_file:\n",
    "  for i, line in enumerate(my_file):\n",
    "    print(f\"Line {i}: {line.strip()}\")"
   ]
  },
  {
   "cell_type": "code",
   "execution_count": 7,
   "id": "3cc4509b-7d7e-44d9-a071-43d45747597b",
   "metadata": {},
   "outputs": [
    {
     "name": "stdout",
     "output_type": "stream",
     "text": [
      "Line 0: ['Hello', 'World']\n",
      "Line 1: ['My', 'name', 'is', 'Sheb', 'Michel']\n",
      "Line 2: ['and', 'this', 'our', '2024', 'ZTM.']\n"
     ]
    }
   ],
   "source": [
    "# read from a file line by line with index and strip and split\n",
    "with open(\"my_file.txt\", \"r\") as my_file:\n",
    "  for i, line in enumerate(my_file):\n",
    "    print(f\"Line {i}: {line.strip().split()}\")"
   ]
  },
  {
   "cell_type": "code",
   "execution_count": 8,
   "id": "1d851086-8ca0-45f0-bbaa-d9385c4b60e9",
   "metadata": {},
   "outputs": [],
   "source": [
    "# append to a file\n",
    "with open(\"my_file.txt\", \"a\") as my_file:\n",
    "  my_file.write(\"I am appending this line, Thanks\")\n",
    "  my_file.close()"
   ]
  },
  {
   "cell_type": "code",
   "execution_count": 9,
   "id": "92fc7e7c-2103-4148-b506-e82ba01a91ef",
   "metadata": {},
   "outputs": [
    {
     "name": "stdout",
     "output_type": "stream",
     "text": [
      "Line 0: ['Hello', 'World']\n",
      "Line 1: ['My', 'name', 'is', 'Sheb', 'Michel']\n",
      "Line 2: ['and', 'this', 'our', '2024', 'ZTM.']\n",
      "Line 3: ['I', 'am', 'appending', 'this', 'line,', 'Thanks']\n"
     ]
    }
   ],
   "source": [
    "with open(\"my_file.txt\", \"r\") as my_file:\n",
    "  for i, line in enumerate(my_file):\n",
    "    print(f\"Line {i}: {line.strip().split()}\")"
   ]
  },
  {
   "cell_type": "markdown",
   "id": "4b95621b-ab89-437c-9485-dbbd46a1f476",
   "metadata": {},
   "source": [
    "# FileIOErrors"
   ]
  },
  {
   "cell_type": "code",
   "execution_count": 10,
   "id": "0788de81-5102-47e2-8f6c-87b6e340bff9",
   "metadata": {},
   "outputs": [
    {
     "name": "stdout",
     "output_type": "stream",
     "text": [
      "[Errno 17] File exists: 'sad.txt'\n"
     ]
    }
   ],
   "source": [
    "try:\n",
    "  with open(\"sad.txt\", \"x\") as my_file:\n",
    "    print(my_file.read())\n",
    "except FileNotFoundError:\n",
    "  print(\"That file was not found\")\n",
    "except IsADirectoryError:\n",
    "  print(\"That is a directory\")\n",
    "except PermissionError:\n",
    "  print(\"You do not have permission to access that file\")\n",
    "except Exception as e:\n",
    "  print(e)"
   ]
  },
  {
   "cell_type": "markdown",
   "id": "8c08ca84-52c3-45a6-9269-9d3281f6e193",
   "metadata": {},
   "source": [
    "# Exercise\n",
    "- build a translator program into japanese\n",
    "- read a file with english words\n",
    "- translate each word into japanese\n",
    "- write the japanese words into a file"
   ]
  },
  {
   "cell_type": "code",
   "execution_count": 22,
   "id": "a5326f1f-6034-46ac-b2de-f998b593f519",
   "metadata": {},
   "outputs": [
    {
     "name": "stdout",
     "output_type": "stream",
     "text": [
      "here are my english words: ['Hello', 'World', 'My', 'name', 'is', 'Sheb', 'Michel', 'and', 'this', 'our', '2024', 'ZTM.', 'I', 'am', 'appending', 'this', 'line,', 'Thanks']\n",
      "['こんにちは', 'ワールド', '自分の', '名前', 'が以下と一致', 'Sheb', 'ミッシェル', 'と', 'この', '当社', '2024年', 'ZTM.', 'I', 'am', '付加', 'この', 'ライン', 'ありがとうございます']\n"
     ]
    }
   ],
   "source": [
    "#\n",
    "from translate import Translator\n",
    "\n",
    "translator = Translator(to_lang=\"ja\")\n",
    "\n",
    "with open(\"my_file.txt\", \"r\") as my_file:\n",
    "  english_words = my_file.read().split()\n",
    "  print('here are my english words:', english_words)\n",
    "japanese_words = [translator.translate(ja_word) for ja_word in english_words]\n",
    "print(japanese_words)\n",
    "#translation = translator.translate(english_words)\n",
    "\n",
    "# Uncomment the below line if you want to save the text in japanese\n",
    "# with open(\"japanese.txt\",'a') as jwords:\n",
    "#   for line in japanese_words:\n",
    "#     jwords.write(line)\n"
   ]
  },
  {
   "cell_type": "code",
   "execution_count": null,
   "id": "42521d91-73cc-4b36-acf4-e32896d79546",
   "metadata": {},
   "outputs": [],
   "source": []
  }
 ],
 "metadata": {
  "kernelspec": {
   "display_name": "Python 3 (ipykernel)",
   "language": "python",
   "name": "python3"
  },
  "language_info": {
   "codemirror_mode": {
    "name": "ipython",
    "version": 3
   },
   "file_extension": ".py",
   "mimetype": "text/x-python",
   "name": "python",
   "nbconvert_exporter": "python",
   "pygments_lexer": "ipython3",
   "version": "3.12.2"
  }
 },
 "nbformat": 4,
 "nbformat_minor": 5
}
