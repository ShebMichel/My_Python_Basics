{
 "cells": [
  {
   "cell_type": "markdown",
   "id": "dd847ff4",
   "metadata": {},
   "source": [
    "# Python basics \n",
    "\n",
    "* ## Operator precedence\n",
    "The order of precedence of the Python operators that you’ve seen so far, from highest to lowest: \n",
    "Operators at the top of the table have the highest precedence, and those at the bottom of the table have the lowest precedence. \n",
    "Any operators in the same row of the table have equal precedence."
   ]
  },
  {
   "cell_type": "code",
   "execution_count": 3,
   "id": "0961e923",
   "metadata": {},
   "outputs": [
    {
     "name": "stdout",
     "output_type": "stream",
     "text": [
      "25\n",
      "6\n",
      "-2\n",
      "8\n",
      "0.5\n",
      "2\n",
      "<class 'int'>\n"
     ]
    }
   ],
   "source": [
    "print((20 - 3) + 2**3)\n",
    "print(2 + 4)\n",
    "print(2 - 4)\n",
    "print(2 * 4)\n",
    "print(2 / 4)\n",
    "# What the remainder of % is called modula\n",
    "print(2 % 4)\n",
    "# type is a function that tells you what\n",
    "# type of data it is\n",
    "print(type(2 + 4))\n",
    "#more details can be found in the below link:\n",
    "#https://pythongeeks.org/python-operator-precedence/"
   ]
  },
  {
   "cell_type": "markdown",
   "id": "bf4b5988",
   "metadata": {},
   "source": [
    "* ## Fundamental data types\n",
    "  We have the following types: int, float, bool, str, list, tuple, set, dict."
   ]
  },
  {
   "cell_type": "code",
   "execution_count": 4,
   "id": "2809b53e",
   "metadata": {},
   "outputs": [
    {
     "name": "stdout",
     "output_type": "stream",
     "text": [
      "190\n",
      "47.5\n",
      "7\n",
      "14\n"
     ]
    }
   ],
   "source": [
    "# Specialized Data Types\n",
    "\n",
    "# None\n",
    "# print('I am not awesome')\n",
    "# int and float\n",
    "# ----\n",
    "# quizz program\n",
    "# variable names\n",
    "user_iq = 190\n",
    "print(user_iq)\n",
    "user_age = user_iq / 4\n",
    "print(user_age)\n",
    "# augmented assignment operator\n",
    "some_value = 5\n",
    "some_value += 2\n",
    "print(some_value)\n",
    "some_value *= 2\n",
    "print(some_value)"
   ]
  },
  {
   "cell_type": "markdown",
   "id": "e82d5342",
   "metadata": {},
   "source": [
    "* ## strings"
   ]
  },
  {
   "cell_type": "code",
   "execution_count": 9,
   "id": "25977c3a",
   "metadata": {},
   "outputs": [
    {
     "name": "stdout",
     "output_type": "stream",
     "text": [
      "\n",
      "WOW\n",
      "0 0\n",
      "---\n",
      "\n",
      "Robot Caller\n",
      "\t It's \"kind of\" sunny \n",
      " hope you have a good day!\n"
     ]
    }
   ],
   "source": [
    "# string\n",
    "\n",
    "username = \"supercoder\"\n",
    "password = \"supersecret\"\n",
    "long_string = \"\"\"\n",
    "WOW\n",
    "0 0\n",
    "---\n",
    "\"\"\"\n",
    "\n",
    "print(long_string)\n",
    "\n",
    "first_name = \"Robot\"\n",
    "last_name = \"Caller\"\n",
    "full_name = first_name + \" \" + last_name\n",
    "print(full_name)\n",
    "# ---\n",
    "# Escape Sequence\n",
    "# \\t to add a tab spacing\n",
    "# \\n to add a new line\n",
    "weather = '\\t It\\'s \"kind of\" sunny \\n hope you have a good day!'\n",
    "print(weather)\n"
   ]
  },
  {
   "cell_type": "markdown",
   "id": "9a4d24e5",
   "metadata": {},
   "source": [
    "* # formatted strings"
   ]
  },
  {
   "cell_type": "code",
   "execution_count": 10,
   "id": "dac03573",
   "metadata": {},
   "outputs": [
    {
     "name": "stdout",
     "output_type": "stream",
     "text": [
      "Hi Johnny. You are 55 +  years old\n"
     ]
    }
   ],
   "source": [
    "# formatted strings\n",
    "name = \"Johnny\"\n",
    "age = 55\n",
    "print(f\"Hi {name}. You are {age} +  years old\")"
   ]
  },
  {
   "cell_type": "markdown",
   "id": "e4a46372",
   "metadata": {},
   "source": [
    "* # string Indexes"
   ]
  },
  {
   "cell_type": "code",
   "execution_count": 11,
   "id": "377ea0c4",
   "metadata": {},
   "outputs": [
    {
     "name": "stdout",
     "output_type": "stream",
     "text": [
      "0246\n",
      "1234567\n",
      "01234\n",
      "01234567\n",
      "7\n",
      "76543210\n"
     ]
    }
   ],
   "source": [
    "selfish = \"01234567\"\n",
    "# [start:stop:stepover]\n",
    "print(selfish[0:8:2])\n",
    "print(selfish[1:])\n",
    "print(selfish[:5])\n",
    "print(selfish[::1])\n",
    "print(selfish[-1])\n",
    "# reverse an order\n",
    "print(selfish[::-1])\n",
    "# ---"
   ]
  },
  {
   "cell_type": "markdown",
   "id": "20baa25f",
   "metadata": {},
   "source": [
    "* # built in functions"
   ]
  },
  {
   "cell_type": "code",
   "execution_count": 12,
   "id": "e4a86ef0",
   "metadata": {},
   "outputs": [
    {
     "name": "stdout",
     "output_type": "stream",
     "text": [
      "9\n",
      "hellloooo\n"
     ]
    }
   ],
   "source": [
    "# len()\n",
    "print(len(\"hellloooo\"))\n",
    "greet = \"hellloooo\"\n",
    "print(greet[0 : len(greet)])"
   ]
  },
  {
   "cell_type": "markdown",
   "id": "a2aeb36f",
   "metadata": {},
   "source": [
    "* # built in methods"
   ]
  },
  {
   "cell_type": "code",
   "execution_count": 13,
   "id": "00fd7de1",
   "metadata": {},
   "outputs": [
    {
     "name": "stdout",
     "output_type": "stream",
     "text": [
      "TO BE OR NOT TO BE\n",
      "To be or not to be\n",
      "3\n",
      "to me or not to me\n"
     ]
    }
   ],
   "source": [
    "quote = \"to be or not to be\"\n",
    "print(quote.upper())\n",
    "print(quote.capitalize())\n",
    "print(quote.find(\"be\"))\n",
    "print(quote.replace(\"be\", \"me\"))\n",
    "# ---"
   ]
  },
  {
   "cell_type": "markdown",
   "id": "dd20ee38",
   "metadata": {},
   "source": [
    "* # booleans"
   ]
  },
  {
   "cell_type": "code",
   "execution_count": 15,
   "id": "ca274143",
   "metadata": {},
   "outputs": [
    {
     "name": "stdout",
     "output_type": "stream",
     "text": [
      "True\n",
      "False\n"
     ]
    }
   ],
   "source": [
    "# booleans\n",
    "# is_cool = False\n",
    "# is_cool = True\n",
    "print(bool(1))\n",
    "print(bool(0))\n",
    "# ---"
   ]
  },
  {
   "cell_type": "markdown",
   "id": "93e1b23a",
   "metadata": {},
   "source": [
    "* # Exercise: Type Conversion"
   ]
  },
  {
   "cell_type": "code",
   "execution_count": 21,
   "id": "9bdee6ed",
   "metadata": {},
   "outputs": [
    {
     "name": "stdout",
     "output_type": "stream",
     "text": [
      "Enter your nameAlicia Keys\n",
      "what year were you born? 1989\n",
      "Alicia Keys your age is: 34\n"
     ]
    }
   ],
   "source": [
    "name       = input('Enter your name')\n",
    "birth_year = input(\"what year were you born? \")\n",
    "age = 2023 - int(birth_year)\n",
    "print(f\"{name} your age is: {age}\")\n",
    "# ---"
   ]
  },
  {
   "cell_type": "markdown",
   "id": "0fbf5057",
   "metadata": {},
   "source": [
    "* # Exercise: Password Checker"
   ]
  },
  {
   "cell_type": "code",
   "execution_count": 24,
   "id": "29f064bc",
   "metadata": {},
   "outputs": [
    {
     "name": "stdout",
     "output_type": "stream",
     "text": [
      "what is your username? siri\n",
      "what is your password? 1999\n",
      "siri, your password, ****, is 4 letters long\n"
     ]
    }
   ],
   "source": [
    "# Exercise: Password Checker\n",
    "username = input(\"what is your username? \")\n",
    "password = input(\"what is your password? \")\n",
    "password_length = len(password)\n",
    "# Hide your password (encrypt your password)\n",
    "hidden_password = \"*\" * password_length\n",
    "print(\n",
    "    f\"{username}, your password, {hidden_password}, is {password_length} letters long\"\n",
    ")\n",
    "# ---"
   ]
  },
  {
   "cell_type": "markdown",
   "id": "02881bbc",
   "metadata": {},
   "source": [
    "* # Lists"
   ]
  },
  {
   "cell_type": "code",
   "execution_count": 27,
   "id": "7098f8f1",
   "metadata": {},
   "outputs": [
    {
     "name": "stdout",
     "output_type": "stream",
     "text": [
      "notebooks\n"
     ]
    }
   ],
   "source": [
    "# Lists\n",
    "li = [1, 2, 3, 4, 5]\n",
    "li2 = [\"a\", \"b\", \"c\"]\n",
    "li3 = [1, 2, \"a\", True]\n",
    "# Data Structure\n",
    "amazon_cart = [\"notebooks\", \"sunglasses\"]\n",
    "print(amazon_cart[0])\n",
    "# ---"
   ]
  },
  {
   "cell_type": "markdown",
   "id": "f58ddd80",
   "metadata": {},
   "source": [
    "* # List Slicing"
   ]
  },
  {
   "cell_type": "code",
   "execution_count": 28,
   "id": "13ead294",
   "metadata": {},
   "outputs": [
    {
     "name": "stdout",
     "output_type": "stream",
     "text": [
      "['notebooks', 'toys']\n",
      "['laptop', 'sunglasses', 'toys', 'grapes']\n"
     ]
    }
   ],
   "source": [
    "amazon_cart = [\"notebooks\", \"sunglasses\", \"toys\", \"grapes\"]\n",
    "print(amazon_cart[0::2])\n",
    "amazon_cart[0] = \"laptop\"\n",
    "print(amazon_cart)\n",
    "# ---"
   ]
  },
  {
   "cell_type": "markdown",
   "id": "6f22b1ce",
   "metadata": {},
   "source": [
    "* # List Methods"
   ]
  },
  {
   "cell_type": "code",
   "execution_count": 29,
   "id": "4c9fc86d",
   "metadata": {},
   "outputs": [
    {
     "name": "stdout",
     "output_type": "stream",
     "text": [
      "[1, 2, 3, 4, 5, 100]\n",
      "append() result is : [1, 2, 3, 4, 5, 100]\n",
      "insert() result is : [1, 2, 3, 4, 100, 5, 100]\n",
      "extend() result is : [1, 2, 3, 4, 100, 5, 100, 100, 101]\n",
      "pop() result is : [1, 2, 3, 4, 100, 5, 100, 100]\n",
      "pop(0) result is : [2, 3, 4, 100, 5, 100, 100]\n",
      "remove(4) result is : [2, 3, 100, 5, 100, 100]\n",
      "clear() result is : []\n",
      "3\n",
      "3\n",
      "True\n",
      "False\n",
      "1\n",
      "sort() result is : ['a', 'b', 'c', 'd', 'd', 'e', 'x']\n",
      "raw data list is : ['a', 'x', 'b', 'c', 'd', 'e', 'd']\n",
      "sorted() result is : ['a', 'b', 'c', 'd', 'd', 'e', 'x']\n",
      "reverse() result is : ['d', 'e', 'd', 'c', 'b', 'x', 'a']\n"
     ]
    }
   ],
   "source": [
    "# List Methods\n",
    "basket = [1, 2, 3, 4, 5]\n",
    "# adding\n",
    "basket.append(100)\n",
    "new_list = basket\n",
    "print(basket)\n",
    "print(f\"append() result is : {basket}\")\n",
    "# insert\n",
    "basket.insert(4, 100)\n",
    "print(f\"insert() result is : {basket}\")\n",
    "# extend\n",
    "basket.extend([100, 101])\n",
    "print(f\"extend() result is : {basket}\")\n",
    "# removing\n",
    "basket.pop()\n",
    "print(f\"pop() result is : {basket}\")\n",
    "basket.pop(0)\n",
    "print(f\"pop(0) result is : {basket}\")\n",
    "basket.remove(4)\n",
    "print(f\"remove(4) result is : {basket}\")\n",
    "# clear\n",
    "basket.clear()\n",
    "print(f\"clear() result is : {basket}\")\n",
    "# index\n",
    "basket = [\"a\", \"b\", \"c\", \"d\", \"e\"]\n",
    "print(basket.index(\"d\"))\n",
    "print(basket.index(\"d\", 0, 4))\n",
    "# in\n",
    "print(\"d\" in basket)\n",
    "print(\"x\" in basket)\n",
    "# count\n",
    "print(basket.count(\"d\"))\n",
    "# sort\n",
    "basket = [\"a\", \"x\", \"b\", \"c\", \"d\", \"e\", \"d\"]\n",
    "basket.sort()\n",
    "print(f\"sort() result is : {basket}\")\n",
    "# sorted\n",
    "basket = [\"a\", \"x\", \"b\", \"c\", \"d\", \"e\", \"d\"]\n",
    "print(f\"raw data list is : {basket}\")\n",
    "print(f\"sorted() result is : {sorted(basket)}\")\n",
    "# reverse\n",
    "basket.reverse()\n",
    "print(f\"reverse() result is : {basket}\")"
   ]
  },
  {
   "cell_type": "markdown",
   "id": "b3da8fc1",
   "metadata": {},
   "source": [
    "* # range, join, list unpacking"
   ]
  },
  {
   "cell_type": "code",
   "execution_count": 30,
   "id": "f3a62f61",
   "metadata": {},
   "outputs": [
    {
     "name": "stdout",
     "output_type": "stream",
     "text": [
      "[1, 2, 3, 4, 5, 6, 7, 8, 9, 10, 11, 12, 13, 14, 15, 16, 17, 18, 19, 20, 21, 22, 23, 24, 25, 26, 27, 28, 29, 30, 31, 32, 33, 34, 35, 36, 37, 38, 39, 40, 41, 42, 43, 44, 45, 46, 47, 48, 49, 50, 51, 52, 53, 54, 55, 56, 57, 58, 59, 60, 61, 62, 63, 64, 65, 66, 67, 68, 69, 70, 71, 72, 73, 74, 75, 76, 77, 78, 79, 80, 81, 82, 83, 84, 85, 86, 87, 88, 89, 90, 91, 92, 93, 94, 95, 96, 97, 98, 99]\n",
      "hi my name is JOJO\n",
      "1\n",
      "2\n",
      "3\n",
      "[4, 5, 6, 7, 8]\n",
      "9\n"
     ]
    }
   ],
   "source": [
    "# range\n",
    "print(list(range(1, 100)))\n",
    "# join\n",
    "sentence = \" \"\n",
    "new_sentence = sentence.join([\"hi\", \"my\", \"name\", \"is\", \"JOJO\"])\n",
    "print(new_sentence)\n",
    "# list unpacking\n",
    "a, b, c, *other, d = [1, 2, 3, 4, 5, 6, 7, 8, 9]\n",
    "print(a)\n",
    "print(b)\n",
    "print(c)\n",
    "print(other)\n",
    "print(d)  \n",
    "# ---"
   ]
  },
  {
   "cell_type": "code",
   "execution_count": null,
   "id": "9590550f",
   "metadata": {},
   "outputs": [],
   "source": [
    "* # None"
   ]
  },
  {
   "cell_type": "code",
   "execution_count": 31,
   "id": "0a6c2c05",
   "metadata": {},
   "outputs": [
    {
     "name": "stdout",
     "output_type": "stream",
     "text": [
      "None\n"
     ]
    }
   ],
   "source": [
    "# None\n",
    "weapons = None\n",
    "print(weapons)\n",
    "# ---"
   ]
  },
  {
   "cell_type": "markdown",
   "id": "ff440450",
   "metadata": {},
   "source": [
    "* # Dictionary,Dictionary Keys,Dictionary Methods"
   ]
  },
  {
   "cell_type": "code",
   "execution_count": 32,
   "id": "1c26c54b",
   "metadata": {},
   "outputs": [
    {
     "name": "stdout",
     "output_type": "stream",
     "text": [
      "3\n",
      "2\n",
      "[1, 2, 3]\n",
      "hello\n",
      "20\n",
      "{'name': 'JohnJohn'}\n",
      "True\n",
      "False\n",
      "True\n",
      "True\n",
      "items() result is : dict_items([('basket', [1, 2, 3]), ('greet', 'hello'), ('age', 20)])\n"
     ]
    }
   ],
   "source": [
    "# Dictionary\n",
    "dictionary = {\"a\": [1, 2, 3], \"b\": \"hello\", \"x\": True}\n",
    "my_list = [\n",
    "    {\"a\": [1, 2, 3], \"b\": \"hello\", \"x\": True},\n",
    "    {\"a\": [4, 5, 6], \"b\": \"hello\", \"x\": True},\n",
    "]\n",
    "print(my_list[0][\"a\"][2])\n",
    "print(dictionary[\"a\"][1])\n",
    "# Dictionary Keys\n",
    "dictionary = {123: [1, 2, 3], True: \"hello\", \"is_magic\": True}\n",
    "print(dictionary[123])\n",
    "print(dictionary[True])\n",
    "# Dictionary Methods\n",
    "user = {\"basket\": [1, 2, 3], \"greet\": \"hello\", \"age\": 20}\n",
    "# user.get() get the key word value if its exist or append the value if it doesnt exists\n",
    "print(user.get(\"age\", 55))\n",
    "# user2 = dict(key=value)\n",
    "user2 = dict(name=\"JohnJohn\")\n",
    "print(user2)\n",
    "# in\n",
    "print(\"basket\" in user)\n",
    "print(\"size\" in user)\n",
    "# keys\n",
    "print(\"age\" in user)\n",
    "# values\n",
    "print(\"hello\" in user.values())\n",
    "# items\n",
    "# print(user.items())\n",
    "print(f\"items() result is : {user.items()}\")"
   ]
  },
  {
   "cell_type": "markdown",
   "id": "e63618f8",
   "metadata": {},
   "source": [
    "* # copy"
   ]
  },
  {
   "cell_type": "code",
   "execution_count": 33,
   "id": "223aac42",
   "metadata": {},
   "outputs": [
    {
     "name": "stdout",
     "output_type": "stream",
     "text": [
      "copy() result is : {'basket': [1, 2, 3], 'greet': 'hello', 'age': 20}\n",
      "pop() result is : 20\n",
      "popitem() result is : ('greet', 'hello')\n",
      "update() result is : None\n",
      "update() result is : {'basket': [1, 2, 3], 'age': 55}\n"
     ]
    }
   ],
   "source": [
    "user2 = user.copy()\n",
    "print(f\"copy() result is : {user2}\")\n",
    "# pop\n",
    "print(f'pop() result is : {user.pop(\"age\")}')\n",
    "# popitem\n",
    "print(f\"popitem() result is : {user.popitem()}\")\n",
    "# update\n",
    "print(f'update() result is : {user.update({\"age\": 55})}')\n",
    "print(f\"update() result is : {user}\")\n",
    "# ---"
   ]
  },
  {
   "cell_type": "markdown",
   "id": "788cf115",
   "metadata": {},
   "source": [
    "* # Tuples, Tuple Methods"
   ]
  },
  {
   "cell_type": "code",
   "execution_count": 34,
   "id": "87cca9b3",
   "metadata": {},
   "outputs": [
    {
     "name": "stdout",
     "output_type": "stream",
     "text": [
      "2\n",
      "True\n",
      "[1, 2, 3]\n",
      "(2,)\n",
      "1\n",
      "2\n",
      "3\n",
      "[4, 5]\n",
      "my tuple count() result of 5 is : 2\n",
      "my tuple index() result of 5 is : 4\n",
      "my tuple index() result of 5 is : 4\n",
      "my tuple length() result is : 6\n"
     ]
    }
   ],
   "source": [
    "# Tuples\n",
    "my_tuple = (1, 2, 3, 4, 5)\n",
    "print(my_tuple[1])\n",
    "print(5 in my_tuple)\n",
    "# Tuples 2\n",
    "user = {(1, 2): [1, 2, 3], \"greet\": \"hello\", \"age\": 20}\n",
    "print(user[(1, 2)])\n",
    "# Tuples 3\n",
    "my_tuple = (1, 2, 3, 4, 5)\n",
    "new_tuple = my_tuple[1:2]\n",
    "print(new_tuple)\n",
    "x, y, z, *other = (1, 2, 3, 4, 5)\n",
    "print(x)\n",
    "print(y)\n",
    "print(z)\n",
    "print(other)\n",
    "# Tuple Methods\n",
    "my_tuple = (1, 2, 3, 4, 5, 5)\n",
    "print(f\"my tuple count() result of 5 is : {my_tuple.count(5)}\")\n",
    "print(f\"my tuple index() result of 5 is : {my_tuple.index(5)}\")\n",
    "print(f\"my tuple index() result of 5 is : {my_tuple.index(5, 0, 5)}\")\n",
    "print(f\"my tuple length() result is : {len(my_tuple)}\")\n",
    "# ---"
   ]
  },
  {
   "cell_type": "markdown",
   "id": "77ce8193",
   "metadata": {},
   "source": [
    "* # Set methods : difference,discard, intersection, isdisjoint, difference_update, union, issubset and issuperset "
   ]
  },
  {
   "cell_type": "code",
   "execution_count": 35,
   "id": "01ea223a",
   "metadata": {},
   "outputs": [
    {
     "name": "stdout",
     "output_type": "stream",
     "text": [
      "{1, 2, 3, 4, 5}\n",
      "my set add() result is : {1, 2, 3, 4, 5, 100}\n",
      " [1, 2, 3, 4, 5, 5] is converted into a set: {1, 2, 3, 4, 5}\n",
      "my set difference() result is : {1, 2, 3}\n",
      "my set discard() result is : None\n",
      "my set discard() result is : {1, 2, 3, 4}\n",
      "my set difference_update() result is : None\n",
      "my set difference_update() result is : {1, 2, 3}\n",
      "my set intersection() result is : set()\n",
      "my set isdisjoint() result is : True\n",
      "my set union() result is : {1, 2, 3, 4, 5, 6, 7, 8, 9, 10}\n",
      "my set issubset() result is : False\n",
      "my set issuperset() result is : False\n",
      "my set issuperset() result is : False\n"
     ]
    }
   ],
   "source": [
    "# Sets\n",
    "my_set = {1, 2, 3, 4, 5, 5}\n",
    "print(my_set)\n",
    "my_set.add(100)\n",
    "my_set.add(2)\n",
    "print(f\"my set add() result is : {my_set}\")\n",
    "# convert a list to a set\n",
    "my_list = [1, 2, 3, 4, 5, 5]\n",
    "# set is important to remove duplicates in your lists\n",
    "print(f\" {my_list} is converted into a set: {set(my_list)}\")\n",
    "# set methods\n",
    "my_set = {1, 2, 3, 4, 5}\n",
    "your_set = {4, 5, 6, 7, 8, 9, 10}\n",
    "# difference\n",
    "print(f\"my set difference() result is : {my_set.difference(your_set)}\")\n",
    "# discard\n",
    "print(f\"my set discard() result is : {my_set.discard(5)}\")\n",
    "print(f\"my set discard() result is : {my_set}\")\n",
    "# difference_update\n",
    "print(f\"my set difference_update() result is : {my_set.difference_update(your_set)}\")\n",
    "print(f\"my set difference_update() result is : {my_set}\")\n",
    "# intersection\n",
    "print(f\"my set intersection() result is : {my_set.intersection(your_set)}\")\n",
    "# isdisjoint\n",
    "print(f\"my set isdisjoint() result is : {my_set.isdisjoint(your_set)}\")\n",
    "# union\n",
    "print(f\"my set union() result is : {my_set.union(your_set)}\")\n",
    "# issubset\n",
    "print(f\"my set issubset() result is : {my_set.issubset(your_set)}\")\n",
    "# issuperset\n",
    "print(f\"my set issuperset() result is : {my_set.issuperset(your_set)}\")\n",
    "print(f\"my set issuperset() result is : {your_set.issuperset(my_set)}\")"
   ]
  },
  {
   "cell_type": "markdown",
   "id": "89b0e753",
   "metadata": {},
   "source": [
    "Thanks for following this simple exercise, dive into the next one if you are willing to learn more. Bon courage"
   ]
  },
  {
   "cell_type": "code",
   "execution_count": null,
   "id": "3f550db1",
   "metadata": {},
   "outputs": [],
   "source": []
  }
 ],
 "metadata": {
  "kernelspec": {
   "display_name": "Python 3 (ipykernel)",
   "language": "python",
   "name": "python3"
  },
  "language_info": {
   "codemirror_mode": {
    "name": "ipython",
    "version": 3
   },
   "file_extension": ".py",
   "mimetype": "text/x-python",
   "name": "python",
   "nbconvert_exporter": "python",
   "pygments_lexer": "ipython3",
   "version": "3.9.12"
  }
 },
 "nbformat": 4,
 "nbformat_minor": 5
}
